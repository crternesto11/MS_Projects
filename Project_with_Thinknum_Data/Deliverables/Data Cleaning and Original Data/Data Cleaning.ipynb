{
 "cells": [
  {
   "cell_type": "code",
   "execution_count": 46,
   "id": "112d4aef",
   "metadata": {},
   "outputs": [],
   "source": [
    "import pandas as pd\n",
    "import numpy as np"
   ]
  },
  {
   "cell_type": "code",
   "execution_count": 47,
   "id": "d0fd4e9e",
   "metadata": {},
   "outputs": [],
   "source": [
    "mkt_cap = pd.read_excel(r\"Market Cap S5INFT 20190101-20231016.xlsx\", parse_dates = [\"DATES\"])\n",
    "stock_price = pd.read_excel(r\"Stock Price S5INFT 20190101-20231016.xlsx\", parse_dates = [\"DATES\"])"
   ]
  },
  {
   "cell_type": "markdown",
   "id": "26901067",
   "metadata": {},
   "source": [
    "## Preprocessing on \"mkt_cap\" and \"stock_price\" (Daily data)"
   ]
  },
  {
   "cell_type": "markdown",
   "id": "9f7332a3",
   "metadata": {},
   "source": [
    "### Drop null values"
   ]
  },
  {
   "cell_type": "code",
   "execution_count": 48,
   "id": "61556195",
   "metadata": {},
   "outputs": [],
   "source": [
    "def drop_null(df):\n",
    "    df_1 = df.copy().fillna(0)\n",
    "    l = []\n",
    "    for x in df_1.index:\n",
    "        if sum(df_1.iloc[x, 3:]) == 0:\n",
    "            l.append(x)\n",
    "    return df_1.drop(l).reset_index().drop('index',axis=1)"
   ]
  },
  {
   "cell_type": "code",
   "execution_count": 49,
   "id": "28eaa5f7",
   "metadata": {},
   "outputs": [],
   "source": [
    "mc = drop_null(mkt_cap)\n",
    "sp = drop_null(stock_price)"
   ]
  },
  {
   "cell_type": "markdown",
   "id": "678af056",
   "metadata": {},
   "source": [
    "### Drop abnormal sample"
   ]
  },
  {
   "cell_type": "code",
   "execution_count": 50,
   "id": "80954fdc",
   "metadata": {
    "scrolled": true
   },
   "outputs": [],
   "source": [
    "def get_abnormal(df):\n",
    "    ab = []\n",
    "    for x in df.columns:\n",
    "        if df[x].min() == 0:\n",
    "            ab.append(x)\n",
    "    return ab"
   ]
  },
  {
   "cell_type": "code",
   "execution_count": 51,
   "id": "6b121de4",
   "metadata": {},
   "outputs": [
    {
     "name": "stdout",
     "output_type": "stream",
     "text": [
      "PANW UW Equity has 709 null values in mkt_cap\n",
      "STX UW Equity has 1 null values in mkt_cap\n",
      "QCOM UW Equity has 1 null values in mkt_cap\n",
      "ROP UW Equity has 1134 null values in mkt_cap\n"
     ]
    }
   ],
   "source": [
    "for x in get_abnormal(mc):\n",
    "    print (f\"{x} has {list(mc.loc[:, x]).count(0)} null values in mkt_cap\") "
   ]
  },
  {
   "cell_type": "code",
   "execution_count": 52,
   "id": "e70cf467",
   "metadata": {},
   "outputs": [
    {
     "name": "stdout",
     "output_type": "stream",
     "text": [
      "PANW UW Equity has 709 null values in stock price\n",
      "ROP UW Equity has 1134 null values in stock price\n"
     ]
    }
   ],
   "source": [
    "for x in get_abnormal(sp):\n",
    "    print (f\"{x} has {list(mc.loc[:, x]).count(0)} null values in stock price\") "
   ]
  },
  {
   "cell_type": "code",
   "execution_count": 53,
   "id": "81afe8c4",
   "metadata": {},
   "outputs": [],
   "source": [
    "mc_1 = mc.drop(columns = ['PANW UW Equity', 'ROP UW Equity'])\n",
    "sp_1 = sp.drop(columns = ['PANW UW Equity', 'ROP UW Equity'])"
   ]
  },
  {
   "cell_type": "markdown",
   "id": "0e037a1b",
   "metadata": {},
   "source": [
    "### Get Weekly Data"
   ]
  },
  {
   "cell_type": "code",
   "execution_count": 54,
   "id": "e7c9d065",
   "metadata": {},
   "outputs": [],
   "source": [
    "def get_weekly_data(df):\n",
    "    df_1 = df.copy()\n",
    "    for i in range(df_1.Week.max()):\n",
    "        x = df_1.loc[df_1.Week == i+1]\n",
    "        df_1 = df_1.drop(x.loc[x.Day < x.Day.max()].index)\n",
    "    return df_1.drop(\"Day\", axis=1).reset_index().drop('index',axis=1)"
   ]
  },
  {
   "cell_type": "code",
   "execution_count": 55,
   "id": "b04a2a08",
   "metadata": {},
   "outputs": [],
   "source": [
    "mc_2 = get_weekly_data(mc_1)\n",
    "sp_2 = get_weekly_data(sp_1)"
   ]
  },
  {
   "cell_type": "code",
   "execution_count": 56,
   "id": "1d8aaba6",
   "metadata": {},
   "outputs": [],
   "source": [
    "mc_3 = mc_2.drop(mc_2.loc[mc_2.Week == 251].index)\n",
    "sp_3 = sp_2.drop(sp_2.loc[sp_2.Week == 251].index)"
   ]
  },
  {
   "cell_type": "markdown",
   "id": "6f0fc3ba",
   "metadata": {},
   "source": [
    "### Transfer Format"
   ]
  },
  {
   "cell_type": "code",
   "execution_count": 57,
   "id": "51f96331",
   "metadata": {},
   "outputs": [],
   "source": [
    "def transfer_format(df):\n",
    "    y = pd.DataFrame(columns=['DATES', \"Week\", \"Ticker\", \"x\"])\n",
    "    for i in range(len(df.columns)-2):\n",
    "        x = pd.DataFrame(columns=['DATES', \"Week\", \"Ticker\", \"x\"])\n",
    "        x['DATES'] = df.iloc[:, 0]\n",
    "        x[\"Week\"] = df.iloc[:, 1]\n",
    "        x[\"Ticker\"] = df.columns[i+2].split(\" \")[0]\n",
    "        x[\"x\"] = df.iloc[:, i+2]\n",
    "        y = pd.concat([y, x])\n",
    "    return y.reset_index().drop('index',axis=1)\n",
    "        "
   ]
  },
  {
   "cell_type": "code",
   "execution_count": 58,
   "id": "d18400b0",
   "metadata": {},
   "outputs": [],
   "source": [
    "mc_4 = transfer_format(mc_3).rename(columns={\"x\": \"mrk_cap\"})\n",
    "sp_4 = transfer_format(sp_3).rename(columns={\"x\": \"price\"})"
   ]
  },
  {
   "cell_type": "markdown",
   "id": "c7a04c98",
   "metadata": {},
   "source": [
    "### Save new datasets"
   ]
  },
  {
   "cell_type": "code",
   "execution_count": 59,
   "id": "c4783af6",
   "metadata": {},
   "outputs": [],
   "source": [
    "mc_4.to_excel('mkt cap.xlsx',index=False)\n",
    "sp_4.to_excel('stock price.xlsx',index=False)"
   ]
  },
  {
   "cell_type": "markdown",
   "id": "b083796a",
   "metadata": {},
   "source": [
    "# Merge"
   ]
  },
  {
   "cell_type": "code",
   "execution_count": null,
   "id": "8f4244eb",
   "metadata": {},
   "outputs": [],
   "source": [
    "jl = pd.read_excel(r\"Job count.xlsx\")"
   ]
  },
  {
   "cell_type": "code",
   "execution_count": 61,
   "id": "a147af9f",
   "metadata": {},
   "outputs": [],
   "source": [
    "result = pd.merge(sp_4, mc_4)\n",
    "x = pd.merge(result, jl, how='left', on = [\"Ticker\", \"Week\"])"
   ]
  },
  {
   "cell_type": "code",
   "execution_count": 68,
   "id": "88277fea",
   "metadata": {},
   "outputs": [],
   "source": [
    "merged= x.copy().fillna(0)\n",
    "merged_1 = merged.drop(merged.loc[merged['count'] == 0].index).reset_index(drop=True)"
   ]
  },
  {
   "cell_type": "code",
   "execution_count": 94,
   "metadata": {},
   "outputs": [],
   "source": [
    "merged_1 = merged_1.rename(columns={\"count\":\"job count\"})"
   ]
  },
  {
   "cell_type": "markdown",
   "metadata": {},
   "source": [
    "### Get Lagged Variables"
   ]
  },
  {
   "cell_type": "code",
   "execution_count": 95,
   "metadata": {},
   "outputs": [],
   "source": [
    "def lagged(df, n, variable, new):\n",
    "    merged_1.loc[:, new] = 0\n",
    "    for index, row in merged_1.iterrows():\n",
    "        ticker = row[\"Ticker\"]\n",
    "        week = row[\"Week\"]+n\n",
    "        if week <= 250:\n",
    "            merged_1.loc[index, new] = df.loc[(df[\"Ticker\"] == ticker) & (df[\"Week\"] == week)][variable].values[0]"
   ]
  },
  {
   "cell_type": "code",
   "execution_count": 97,
   "metadata": {},
   "outputs": [
    {
     "name": "stderr",
     "output_type": "stream",
     "text": [
      "/var/folders/78/mzvhkg9541qgk1th67dnww8m0000gn/T/ipykernel_32855/3378634190.py:2: DeprecationWarning: In a future version, `df.iloc[:, i] = newvals` will attempt to set the values inplace instead of always setting a new array. To retain the old behavior, use either `df[df.columns[i]] = newvals` or, if columns are non-unique, `df.isetitem(i, newvals)`\n",
      "  merged_1.loc[:, new] = 0\n"
     ]
    }
   ],
   "source": [
    "lagged(sp_4, 13, \"price\", \"sp_1q\")\n",
    "lagged(sp_4, 26, \"price\", \"sp_2q\")\n",
    "lagged(sp_4, 39, \"price\", \"sp_3q\")\n",
    "lagged(sp_4, 52, \"price\", \"sp_4q\")"
   ]
  },
  {
   "cell_type": "code",
   "execution_count": 98,
   "metadata": {},
   "outputs": [
    {
     "name": "stderr",
     "output_type": "stream",
     "text": [
      "/var/folders/78/mzvhkg9541qgk1th67dnww8m0000gn/T/ipykernel_32855/3378634190.py:2: DeprecationWarning: In a future version, `df.iloc[:, i] = newvals` will attempt to set the values inplace instead of always setting a new array. To retain the old behavior, use either `df[df.columns[i]] = newvals` or, if columns are non-unique, `df.isetitem(i, newvals)`\n",
      "  merged_1.loc[:, new] = 0\n"
     ]
    }
   ],
   "source": [
    "lagged(mc_4, 13, \"mrk_cap\", \"mc_1q\")\n",
    "lagged(mc_4, 26, \"mrk_cap\", \"mc_2q\")\n",
    "lagged(mc_4, 39, \"mrk_cap\", \"mc_3q\")\n",
    "lagged(mc_4, 52, \"mrk_cap\", \"cm_4q\")"
   ]
  },
  {
   "cell_type": "code",
   "execution_count": 99,
   "metadata": {},
   "outputs": [
    {
     "data": {
      "text/html": [
       "<div>\n",
       "<style scoped>\n",
       "    .dataframe tbody tr th:only-of-type {\n",
       "        vertical-align: middle;\n",
       "    }\n",
       "\n",
       "    .dataframe tbody tr th {\n",
       "        vertical-align: top;\n",
       "    }\n",
       "\n",
       "    .dataframe thead th {\n",
       "        text-align: right;\n",
       "    }\n",
       "</style>\n",
       "<table border=\"1\" class=\"dataframe\">\n",
       "  <thead>\n",
       "    <tr style=\"text-align: right;\">\n",
       "      <th></th>\n",
       "      <th>DATES</th>\n",
       "      <th>Week</th>\n",
       "      <th>Ticker</th>\n",
       "      <th>price</th>\n",
       "      <th>mrk_cap</th>\n",
       "      <th>Posted_year</th>\n",
       "      <th>Posted_week</th>\n",
       "      <th>job count</th>\n",
       "      <th>sp_1q</th>\n",
       "      <th>sp_2q</th>\n",
       "      <th>sp_3q</th>\n",
       "      <th>sp_4q</th>\n",
       "      <th>mc_1q</th>\n",
       "      <th>mc_2q</th>\n",
       "      <th>mc_3q</th>\n",
       "      <th>cm_4q</th>\n",
       "    </tr>\n",
       "  </thead>\n",
       "  <tbody>\n",
       "    <tr>\n",
       "      <th>0</th>\n",
       "      <td>2019-01-04</td>\n",
       "      <td>1</td>\n",
       "      <td>CDW</td>\n",
       "      <td>77.88</td>\n",
       "      <td>1.168081e+10</td>\n",
       "      <td>2019.0</td>\n",
       "      <td>1.0</td>\n",
       "      <td>2215.0</td>\n",
       "      <td>100.79</td>\n",
       "      <td>113.79</td>\n",
       "      <td>122.40</td>\n",
       "      <td>142.15</td>\n",
       "      <td>1.482210e+10</td>\n",
       "      <td>1.661584e+10</td>\n",
       "      <td>1.771306e+10</td>\n",
       "      <td>2.042420e+10</td>\n",
       "    </tr>\n",
       "    <tr>\n",
       "      <th>1</th>\n",
       "      <td>2019-01-11</td>\n",
       "      <td>2</td>\n",
       "      <td>CDW</td>\n",
       "      <td>80.59</td>\n",
       "      <td>1.208727e+10</td>\n",
       "      <td>2019.0</td>\n",
       "      <td>2.0</td>\n",
       "      <td>2535.0</td>\n",
       "      <td>107.00</td>\n",
       "      <td>116.22</td>\n",
       "      <td>124.41</td>\n",
       "      <td>142.36</td>\n",
       "      <td>1.565434e+10</td>\n",
       "      <td>1.697068e+10</td>\n",
       "      <td>1.800394e+10</td>\n",
       "      <td>2.045438e+10</td>\n",
       "    </tr>\n",
       "    <tr>\n",
       "      <th>2</th>\n",
       "      <td>2019-01-18</td>\n",
       "      <td>3</td>\n",
       "      <td>CDW</td>\n",
       "      <td>81.69</td>\n",
       "      <td>1.225226e+10</td>\n",
       "      <td>2019.0</td>\n",
       "      <td>3.0</td>\n",
       "      <td>1804.0</td>\n",
       "      <td>105.39</td>\n",
       "      <td>112.51</td>\n",
       "      <td>123.91</td>\n",
       "      <td>136.85</td>\n",
       "      <td>1.541880e+10</td>\n",
       "      <td>1.642894e+10</td>\n",
       "      <td>1.793158e+10</td>\n",
       "      <td>1.966270e+10</td>\n",
       "    </tr>\n",
       "    <tr>\n",
       "      <th>3</th>\n",
       "      <td>2019-01-25</td>\n",
       "      <td>4</td>\n",
       "      <td>CDW</td>\n",
       "      <td>81.96</td>\n",
       "      <td>1.229275e+10</td>\n",
       "      <td>2019.0</td>\n",
       "      <td>4.0</td>\n",
       "      <td>2304.0</td>\n",
       "      <td>105.29</td>\n",
       "      <td>114.44</td>\n",
       "      <td>124.86</td>\n",
       "      <td>137.92</td>\n",
       "      <td>1.540417e+10</td>\n",
       "      <td>1.671076e+10</td>\n",
       "      <td>1.806906e+10</td>\n",
       "      <td>1.981644e+10</td>\n",
       "    </tr>\n",
       "    <tr>\n",
       "      <th>4</th>\n",
       "      <td>2019-02-01</td>\n",
       "      <td>5</td>\n",
       "      <td>CDW</td>\n",
       "      <td>83.55</td>\n",
       "      <td>1.253123e+10</td>\n",
       "      <td>2019.0</td>\n",
       "      <td>5.0</td>\n",
       "      <td>2426.0</td>\n",
       "      <td>109.09</td>\n",
       "      <td>116.34</td>\n",
       "      <td>131.20</td>\n",
       "      <td>130.45</td>\n",
       "      <td>1.592954e+10</td>\n",
       "      <td>1.683609e+10</td>\n",
       "      <td>1.885090e+10</td>\n",
       "      <td>1.874314e+10</td>\n",
       "    </tr>\n",
       "  </tbody>\n",
       "</table>\n",
       "</div>"
      ],
      "text/plain": [
       "       DATES  Week Ticker  price       mrk_cap  Posted_year  Posted_week  \\\n",
       "0 2019-01-04     1    CDW  77.88  1.168081e+10       2019.0          1.0   \n",
       "1 2019-01-11     2    CDW  80.59  1.208727e+10       2019.0          2.0   \n",
       "2 2019-01-18     3    CDW  81.69  1.225226e+10       2019.0          3.0   \n",
       "3 2019-01-25     4    CDW  81.96  1.229275e+10       2019.0          4.0   \n",
       "4 2019-02-01     5    CDW  83.55  1.253123e+10       2019.0          5.0   \n",
       "\n",
       "   job count   sp_1q   sp_2q   sp_3q   sp_4q         mc_1q         mc_2q  \\\n",
       "0     2215.0  100.79  113.79  122.40  142.15  1.482210e+10  1.661584e+10   \n",
       "1     2535.0  107.00  116.22  124.41  142.36  1.565434e+10  1.697068e+10   \n",
       "2     1804.0  105.39  112.51  123.91  136.85  1.541880e+10  1.642894e+10   \n",
       "3     2304.0  105.29  114.44  124.86  137.92  1.540417e+10  1.671076e+10   \n",
       "4     2426.0  109.09  116.34  131.20  130.45  1.592954e+10  1.683609e+10   \n",
       "\n",
       "          mc_3q         cm_4q  \n",
       "0  1.771306e+10  2.042420e+10  \n",
       "1  1.800394e+10  2.045438e+10  \n",
       "2  1.793158e+10  1.966270e+10  \n",
       "3  1.806906e+10  1.981644e+10  \n",
       "4  1.885090e+10  1.874314e+10  "
      ]
     },
     "execution_count": 99,
     "metadata": {},
     "output_type": "execute_result"
    }
   ],
   "source": [
    "merged_1.head()"
   ]
  },
  {
   "cell_type": "markdown",
   "metadata": {},
   "source": [
    "### Add categories"
   ]
  },
  {
   "cell_type": "code",
   "execution_count": 81,
   "metadata": {},
   "outputs": [],
   "source": [
    "add_data = pd.read_excel(r\"categories.xlsx\")"
   ]
  },
  {
   "cell_type": "code",
   "execution_count": 82,
   "metadata": {},
   "outputs": [
    {
     "data": {
      "text/html": [
       "<div>\n",
       "<style scoped>\n",
       "    .dataframe tbody tr th:only-of-type {\n",
       "        vertical-align: middle;\n",
       "    }\n",
       "\n",
       "    .dataframe tbody tr th {\n",
       "        vertical-align: top;\n",
       "    }\n",
       "\n",
       "    .dataframe thead th {\n",
       "        text-align: right;\n",
       "    }\n",
       "</style>\n",
       "<table border=\"1\" class=\"dataframe\">\n",
       "  <thead>\n",
       "    <tr style=\"text-align: right;\">\n",
       "      <th></th>\n",
       "      <th>Ticker</th>\n",
       "      <th>category</th>\n",
       "      <th>Posted_year</th>\n",
       "      <th>Posted_week</th>\n",
       "      <th>count</th>\n",
       "      <th>company industry</th>\n",
       "    </tr>\n",
       "  </thead>\n",
       "  <tbody>\n",
       "    <tr>\n",
       "      <th>0</th>\n",
       "      <td>CDW</td>\n",
       "      <td>Consultant</td>\n",
       "      <td>2021</td>\n",
       "      <td>42</td>\n",
       "      <td>466</td>\n",
       "      <td>Software &amp; Computer Services</td>\n",
       "    </tr>\n",
       "    <tr>\n",
       "      <th>1</th>\n",
       "      <td>CDW</td>\n",
       "      <td>Consultant</td>\n",
       "      <td>2022</td>\n",
       "      <td>5</td>\n",
       "      <td>528</td>\n",
       "      <td>Software &amp; Computer Services</td>\n",
       "    </tr>\n",
       "    <tr>\n",
       "      <th>2</th>\n",
       "      <td>CDW</td>\n",
       "      <td>Consultant</td>\n",
       "      <td>2019</td>\n",
       "      <td>7</td>\n",
       "      <td>7</td>\n",
       "      <td>Software &amp; Computer Services</td>\n",
       "    </tr>\n",
       "    <tr>\n",
       "      <th>3</th>\n",
       "      <td>CDW</td>\n",
       "      <td>Consultant</td>\n",
       "      <td>2021</td>\n",
       "      <td>33</td>\n",
       "      <td>305</td>\n",
       "      <td>Software &amp; Computer Services</td>\n",
       "    </tr>\n",
       "    <tr>\n",
       "      <th>4</th>\n",
       "      <td>CDW</td>\n",
       "      <td>Consultant</td>\n",
       "      <td>2022</td>\n",
       "      <td>32</td>\n",
       "      <td>650</td>\n",
       "      <td>Software &amp; Computer Services</td>\n",
       "    </tr>\n",
       "  </tbody>\n",
       "</table>\n",
       "</div>"
      ],
      "text/plain": [
       "  Ticker    category  Posted_year  Posted_week  count  \\\n",
       "0    CDW  Consultant         2021           42    466   \n",
       "1    CDW  Consultant         2022            5    528   \n",
       "2    CDW  Consultant         2019            7      7   \n",
       "3    CDW  Consultant         2021           33    305   \n",
       "4    CDW  Consultant         2022           32    650   \n",
       "\n",
       "               company industry  \n",
       "0  Software & Computer Services  \n",
       "1  Software & Computer Services  \n",
       "2  Software & Computer Services  \n",
       "3  Software & Computer Services  \n",
       "4  Software & Computer Services  "
      ]
     },
     "execution_count": 82,
     "metadata": {},
     "output_type": "execute_result"
    }
   ],
   "source": [
    "add_data.head()"
   ]
  },
  {
   "cell_type": "code",
   "execution_count": 84,
   "metadata": {},
   "outputs": [],
   "source": [
    "#industry\n",
    "industry = add_data.loc[:, [\"Ticker\", \"Posted_year\", \"Posted_week\", \"company industry\"]]\n",
    "industry = industry.drop_duplicates()\n",
    "duplicated = industry[industry.iloc[:, 0:-1].duplicated()]\n",
    "industry = industry.drop(duplicated.index)\n",
    "x = pd.merge(merged_1, industry, how='left', on = [\"Ticker\", \"Posted_year\", \"Posted_week\"])"
   ]
  },
  {
   "cell_type": "code",
   "execution_count": 85,
   "metadata": {},
   "outputs": [],
   "source": [
    "df_category = add_data.loc[:, [\"Ticker\", \"Posted_year\", \"Posted_week\"]]\n",
    "df_category = df_category.drop_duplicates().reset_index().drop('index',axis=1)"
   ]
  },
  {
   "cell_type": "code",
   "execution_count": null,
   "metadata": {},
   "outputs": [],
   "source": [
    "#categories\n",
    "# However, it takes quite long time to run the code below.\n",
    "for index, row in df_category.iterrows():\n",
    "    ticker = row[\"Ticker\"]\n",
    "    year = row[\"Posted_year\"]\n",
    "    week = row[\"Posted_week\"]\n",
    "    for x in add_data[\"category\"].unique():\n",
    "        matching_rows = add_data.loc[(add_data.Ticker == ticker) & (add_data.Posted_year == year) & (add_data.Posted_week == week) & (add_data.category == x), \"count\"].values\n",
    "        if len(matching_rows) > 0:\n",
    "            df_category.at[index, x] = matching_rows[0]\n",
    "        else:\n",
    "            df_category.at[index, x] = 0"
   ]
  },
  {
   "cell_type": "code",
   "execution_count": null,
   "metadata": {},
   "outputs": [],
   "source": [
    "matched = pd.merge(x, df_category, how='left', on = [\"Ticker\", \"Posted_year\", \"Posted_week\"])\n",
    "matched.to_excel(\"Weekly Data.xlsx\")"
   ]
  },
  {
   "cell_type": "markdown",
   "metadata": {},
   "source": []
  }
 ],
 "metadata": {
  "kernelspec": {
   "display_name": "Python 3 (ipykernel)",
   "language": "python",
   "name": "python3"
  },
  "language_info": {
   "codemirror_mode": {
    "name": "ipython",
    "version": 3
   },
   "file_extension": ".py",
   "mimetype": "text/x-python",
   "name": "python",
   "nbconvert_exporter": "python",
   "pygments_lexer": "ipython3",
   "version": "3.11.3"
  }
 },
 "nbformat": 4,
 "nbformat_minor": 5
}
